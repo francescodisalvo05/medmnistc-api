{
 "cells": [
  {
   "cell_type": "markdown",
   "metadata": {},
   "source": [
    "# Evaluation"
   ]
  },
  {
   "cell_type": "markdown",
   "metadata": {},
   "source": [
    "### Import"
   ]
  },
  {
   "cell_type": "code",
   "execution_count": 49,
   "metadata": {},
   "outputs": [],
   "source": [
    "%%capture\n",
    "\n",
    "from medmnistc.dataset import CorruptedMedMNIST\n",
    "from medmnistc.eval import Evaluator\n",
    "from medmnistc.corruptions.registry import CORRUPTIONS_DS\n",
    "\n",
    "from torch.utils.data import DataLoader\n",
    "from medmnist import INFO\n",
    "from copy import deepcopy\n",
    "from tqdm import tqdm\n",
    "\n",
    "import torchvision.transforms as transforms\n",
    "import medmnist\n",
    "import torch.nn as nn\n",
    "import torch\n",
    "import timm"
   ]
  },
  {
   "cell_type": "markdown",
   "metadata": {},
   "source": [
    "### Setup experiment"
   ]
  },
  {
   "cell_type": "code",
   "execution_count": 50,
   "metadata": {},
   "outputs": [],
   "source": [
    "config = {\n",
    "    'dataset' : 'breastmnist',\n",
    "    'architecture' : 'resnet18.tv_in1k', # timm-equivalent name\n",
    "    'medmnist_path' : '/mnt/data/datasets/medmnist',\n",
    "    'medmnistc_path' : '/mnt/data/datasets/medmnistc', \n",
    "    'logs_path' : './',\n",
    "    'seed' : 42, # training seed (if any) - here it is used in `Evaluator` as id for the output logs\n",
    "}\n",
    "\n",
    "info = INFO[config['dataset']]\n",
    "\n",
    "config.update({\n",
    "    'task': info['task'],\n",
    "    'in_channel': info['n_channels'],\n",
    "    'num_classes': len(info['label'])\n",
    "})\n",
    "\n",
    "# Define model - we are further training in this example\n",
    "model = timm.create_model(config['architecture'], pretrained=True)\n",
    "model = model.eval()\n",
    "\n",
    "mean, std = model.default_cfg['mean'], model.default_cfg['std']\n",
    "\n",
    "# Load clean dataset\n",
    "DataClass = getattr(medmnist, info['python_class'])\n",
    "\n",
    "data_transform = transforms.Compose([transforms.ToTensor(),transforms.Normalize(mean=mean, std=std)])\n",
    "test_dataset_clean = DataClass(split='test', transform=data_transform, download=False, as_rgb=True, size=224, root=config['medmnist_path'])    \n",
    "test_loader_clean = DataLoader(test_dataset_clean, batch_size=128, shuffle=False, num_workers=4, persistent_workers=True)\n",
    "\n",
    "# Init the Evaluator class\n",
    "corruptions = CORRUPTIONS_DS[config['dataset']]\n",
    "evaluator = Evaluator(dataset_name=config['dataset'],\n",
    "                      true_labels=test_dataset_clean.labels,\n",
    "                      corruption_types=corruptions.keys(),\n",
    "                      output_folder=config['logs_path'],\n",
    "                      architecture=config['architecture'],\n",
    "                      task=config['task'],\n",
    "                      suffix_log=f\"s{config['seed']}\")"
   ]
  },
  {
   "cell_type": "markdown",
   "metadata": {},
   "source": [
    "### Inference "
   ]
  },
  {
   "cell_type": "code",
   "execution_count": 51,
   "metadata": {},
   "outputs": [],
   "source": [
    "def evaluate(model, dataloader, task, device = 'cuda:0'):\n",
    "    \"\"\"\n",
    "    Evaluate a model on the current corrupted test set.\n",
    "\n",
    "    :param config: Dictionary containing the parameters and hyperparameters.\n",
    "    :param dataloader: DataLoader for the test set.\n",
    "    :param task: Classification task ('multi-label, binary-class','multi-class', and so on..).\n",
    "    :param device: Running device (cuda or cpu).\n",
    "    :return: Predictions (raw probabilities).\n",
    "    \"\"\"\n",
    "    \n",
    "    # Load model and prediction function\n",
    "    if task == \"multi-label, binary-class\":\n",
    "        prediction = nn.Sigmoid()\n",
    "    else:\n",
    "        prediction = nn.Softmax(dim=1)\n",
    "\n",
    "    model = model.to(device)\n",
    "\n",
    "    # Run the Evaluation\n",
    "    y_pred = torch.tensor([]).to(device)\n",
    "\n",
    "    with torch.no_grad():\n",
    "        for images, labels in tqdm(dataloader):\n",
    "            # Map the data to the available device\n",
    "            images, labels = images.to(device), labels.to(torch.float32).to(device)\n",
    "            outputs = model(images)\n",
    "            outputs = prediction(outputs)\n",
    "            # Store the predictions\n",
    "            y_pred = torch.cat((y_pred, deepcopy(outputs)), 0)\n",
    "\n",
    "    return y_pred"
   ]
  },
  {
   "cell_type": "code",
   "execution_count": 52,
   "metadata": {},
   "outputs": [
    {
     "name": "stderr",
     "output_type": "stream",
     "text": [
      "100%|██████████| 2/2 [00:00<00:00, 11.78it/s]\n"
     ]
    },
    {
     "name": "stdout",
     "output_type": "stream",
     "text": [
      "pixelate\n"
     ]
    },
    {
     "name": "stderr",
     "output_type": "stream",
     "text": [
      "100%|██████████| 7/7 [00:00<00:00, 20.49it/s]\n"
     ]
    },
    {
     "name": "stdout",
     "output_type": "stream",
     "text": [
      "jpeg_compression\n"
     ]
    },
    {
     "name": "stderr",
     "output_type": "stream",
     "text": [
      "100%|██████████| 7/7 [00:00<00:00, 20.31it/s]\n"
     ]
    },
    {
     "name": "stdout",
     "output_type": "stream",
     "text": [
      "speckle_noise\n"
     ]
    },
    {
     "name": "stderr",
     "output_type": "stream",
     "text": [
      "100%|██████████| 7/7 [00:00<00:00, 20.65it/s]\n"
     ]
    },
    {
     "name": "stdout",
     "output_type": "stream",
     "text": [
      "motion_blur\n"
     ]
    },
    {
     "name": "stderr",
     "output_type": "stream",
     "text": [
      "100%|██████████| 7/7 [00:00<00:00, 19.97it/s]\n"
     ]
    },
    {
     "name": "stdout",
     "output_type": "stream",
     "text": [
      "brightness_up\n"
     ]
    },
    {
     "name": "stderr",
     "output_type": "stream",
     "text": [
      "100%|██████████| 7/7 [00:00<00:00, 20.03it/s]\n"
     ]
    },
    {
     "name": "stdout",
     "output_type": "stream",
     "text": [
      "brightness_down\n"
     ]
    },
    {
     "name": "stderr",
     "output_type": "stream",
     "text": [
      "100%|██████████| 7/7 [00:00<00:00, 20.29it/s]\n"
     ]
    },
    {
     "name": "stdout",
     "output_type": "stream",
     "text": [
      "contrast_down\n"
     ]
    },
    {
     "name": "stderr",
     "output_type": "stream",
     "text": [
      "100%|██████████| 7/7 [00:00<00:00, 20.43it/s]"
     ]
    },
    {
     "name": "stdout",
     "output_type": "stream",
     "text": [
      "Logs stored at `./breastmnist_resnet18.tv_in1k_s42.json`\n"
     ]
    },
    {
     "name": "stderr",
     "output_type": "stream",
     "text": [
      "\n"
     ]
    }
   ],
   "source": [
    "# Evaluate clean performance\n",
    "y_pred = evaluate(model, test_loader_clean, config['task'])\n",
    "evaluator.evaluate_clean(y_pred.cpu().numpy())\n",
    "\n",
    "# Iterate over the designed corruptions.\n",
    "for corruption in corruptions.keys():\n",
    "\n",
    "    print(corruption)\n",
    "    \n",
    "    # Load the corrupted test set, according to the selected corruption\n",
    "    corrupted_test_test = CorruptedMedMNIST(\n",
    "                            dataset_name = config['dataset'], \n",
    "                            corruption = corruption,\n",
    "                            root = config['medmnistc_path'],\n",
    "                            as_rgb = test_dataset_clean.as_rgb,\n",
    "                            mmap_mode='r',\n",
    "                            norm_mean = mean,\n",
    "                            norm_std = std\n",
    "                          )\n",
    "    \n",
    "    # Get dataloader\n",
    "    test_loader = DataLoader(corrupted_test_test, batch_size=128, shuffle=False, num_workers=4, persistent_workers=True)\n",
    "\n",
    "    # Evaluate\n",
    "    y_pred = evaluate(model, test_loader, config['task'])     \n",
    "\n",
    "    # Calculate the error\n",
    "    evaluator.evaluate(y_pred.cpu().numpy(), corruption)\n",
    "\n",
    "# Create a json file containing the results\n",
    "evaluator.dump_summary()"
   ]
  }
 ],
 "metadata": {
  "kernelspec": {
   "display_name": "medmnistc",
   "language": "python",
   "name": "python3"
  },
  "language_info": {
   "codemirror_mode": {
    "name": "ipython",
    "version": 3
   },
   "file_extension": ".py",
   "mimetype": "text/x-python",
   "name": "python",
   "nbconvert_exporter": "python",
   "pygments_lexer": "ipython3",
   "version": "3.11.7"
  }
 },
 "nbformat": 4,
 "nbformat_minor": 2
}
