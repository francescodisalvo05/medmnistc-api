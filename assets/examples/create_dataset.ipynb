{
 "cells": [
  {
   "cell_type": "code",
   "execution_count": 1,
   "metadata": {},
   "outputs": [],
   "source": [
    "from medmnistc.dataset_manager import DatasetManager\n",
    "\n",
    "import numpy as np"
   ]
  },
  {
   "cell_type": "code",
   "execution_count": 2,
   "metadata": {},
   "outputs": [],
   "source": [
    "medmnist_path = \"/mnt/data/datasets/medmnist\" # PATH TO THE CLEAN IMAGES\n",
    "output_path = \"/mnt/data/datasets/medmnistc-tmp\" # PATH TO THE CORRUPTED IMAGES"
   ]
  },
  {
   "cell_type": "markdown",
   "metadata": {},
   "source": [
    "### Create one dataset"
   ]
  },
  {
   "cell_type": "code",
   "execution_count": 4,
   "metadata": {},
   "outputs": [
    {
     "name": "stdout",
     "output_type": "stream",
     "text": [
      "=========== breastmnist ===========\n",
      "Starting pixelate...\n"
     ]
    },
    {
     "name": "stderr",
     "output_type": "stream",
     "text": [
      "Severity 01: 100%|██████████| 156/156 [00:00<00:00, 3096.10it/s]\n",
      "Severity 02: 100%|██████████| 156/156 [00:00<00:00, 3244.26it/s]\n",
      "Severity 03: 100%|██████████| 156/156 [00:00<00:00, 3382.45it/s]\n",
      "Severity 04: 100%|██████████| 156/156 [00:00<00:00, 3501.48it/s]\n",
      "Severity 05: 100%|██████████| 156/156 [00:00<00:00, 3726.08it/s]\n"
     ]
    },
    {
     "name": "stdout",
     "output_type": "stream",
     "text": [
      "Starting jpeg_compression...\n"
     ]
    },
    {
     "name": "stderr",
     "output_type": "stream",
     "text": [
      "Severity 01: 100%|██████████| 156/156 [00:00<00:00, 1731.67it/s]\n",
      "Severity 02: 100%|██████████| 156/156 [00:00<00:00, 2852.85it/s]\n",
      "Severity 03: 100%|██████████| 156/156 [00:00<00:00, 3198.72it/s]\n",
      "Severity 04: 100%|██████████| 156/156 [00:00<00:00, 3380.25it/s]\n",
      "Severity 05: 100%|██████████| 156/156 [00:00<00:00, 3404.72it/s]\n"
     ]
    },
    {
     "name": "stdout",
     "output_type": "stream",
     "text": [
      "Starting speckle_noise...\n"
     ]
    },
    {
     "name": "stderr",
     "output_type": "stream",
     "text": [
      "Severity 01: 100%|██████████| 156/156 [00:00<00:00, 450.27it/s]\n",
      "Severity 02: 100%|██████████| 156/156 [00:00<00:00, 517.73it/s]\n",
      "Severity 03: 100%|██████████| 156/156 [00:00<00:00, 521.73it/s]\n",
      "Severity 04: 100%|██████████| 156/156 [00:00<00:00, 516.61it/s]\n",
      "Severity 05: 100%|██████████| 156/156 [00:00<00:00, 520.55it/s]\n"
     ]
    },
    {
     "name": "stdout",
     "output_type": "stream",
     "text": [
      "Starting motion_blur...\n"
     ]
    },
    {
     "name": "stderr",
     "output_type": "stream",
     "text": [
      "Severity 01: 100%|██████████| 156/156 [00:07<00:00, 21.04it/s]\n",
      "Severity 02: 100%|██████████| 156/156 [00:10<00:00, 15.30it/s]\n",
      "Severity 03: 100%|██████████| 156/156 [00:10<00:00, 15.28it/s]\n",
      "Severity 04: 100%|██████████| 156/156 [00:13<00:00, 11.80it/s]\n",
      "Severity 05: 100%|██████████| 156/156 [00:16<00:00,  9.53it/s]\n"
     ]
    },
    {
     "name": "stdout",
     "output_type": "stream",
     "text": [
      "Starting brightness_up...\n"
     ]
    },
    {
     "name": "stderr",
     "output_type": "stream",
     "text": [
      "Severity 01: 100%|██████████| 156/156 [00:00<00:00, 3433.98it/s]\n",
      "Severity 02: 100%|██████████| 156/156 [00:00<00:00, 2850.21it/s]\n",
      "Severity 03: 100%|██████████| 156/156 [00:00<00:00, 3442.84it/s]\n",
      "Severity 04: 100%|██████████| 156/156 [00:00<00:00, 3390.16it/s]\n",
      "Severity 05: 100%|██████████| 156/156 [00:00<00:00, 3406.70it/s]\n"
     ]
    },
    {
     "name": "stdout",
     "output_type": "stream",
     "text": [
      "Starting brightness_down...\n"
     ]
    },
    {
     "name": "stderr",
     "output_type": "stream",
     "text": [
      "Severity 01: 100%|██████████| 156/156 [00:00<00:00, 4325.34it/s]\n",
      "Severity 02: 100%|██████████| 156/156 [00:00<00:00, 4256.60it/s]\n",
      "Severity 03: 100%|██████████| 156/156 [00:00<00:00, 4285.20it/s]\n",
      "Severity 04: 100%|██████████| 156/156 [00:00<00:00, 4243.43it/s]\n",
      "Severity 05: 100%|██████████| 156/156 [00:00<00:00, 4163.05it/s]\n"
     ]
    },
    {
     "name": "stdout",
     "output_type": "stream",
     "text": [
      "Starting contrast_down...\n"
     ]
    },
    {
     "name": "stderr",
     "output_type": "stream",
     "text": [
      "Severity 01: 100%|██████████| 156/156 [00:00<00:00, 3279.54it/s]\n",
      "Severity 02: 100%|██████████| 156/156 [00:00<00:00, 3282.44it/s]\n",
      "Severity 03: 100%|██████████| 156/156 [00:00<00:00, 3289.52it/s]\n",
      "Severity 04: 100%|██████████| 156/156 [00:00<00:00, 3302.50it/s]\n",
      "Severity 05: 100%|██████████| 156/156 [00:00<00:00, 3310.47it/s]\n"
     ]
    }
   ],
   "source": [
    "dataset = \"breastmnist\"\n",
    "\n",
    "ds_manager = DatasetManager(medmnist_path = medmnist_path, output_path=output_path)\n",
    "ds_manager.create_dataset(dataset_name = dataset)"
   ]
  },
  {
   "cell_type": "markdown",
   "metadata": {},
   "source": [
    "### Create all datasets"
   ]
  },
  {
   "cell_type": "code",
   "execution_count": null,
   "metadata": {},
   "outputs": [],
   "source": [
    "ds_manager = DatasetManager(medmnist_path = medmnist_path, output_path=output_path)\n",
    "ds_manager.create_dataset(dataset = \"all\")"
   ]
  }
 ],
 "metadata": {
  "kernelspec": {
   "display_name": "medmnistc",
   "language": "python",
   "name": "python3"
  },
  "language_info": {
   "codemirror_mode": {
    "name": "ipython",
    "version": 3
   },
   "file_extension": ".py",
   "mimetype": "text/x-python",
   "name": "python",
   "nbconvert_exporter": "python",
   "pygments_lexer": "ipython3",
   "version": "3.11.7"
  }
 },
 "nbformat": 4,
 "nbformat_minor": 2
}
